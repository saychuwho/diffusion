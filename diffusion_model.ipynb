{
 "cells": [
  {
   "cell_type": "code",
   "execution_count": 1,
   "metadata": {},
   "outputs": [],
   "source": [
    "import math\n",
    "from inspect import isfunction\n",
    "from functools import partial\n",
    "\n",
    "import matplotlib.pyplot as plt\n",
    "from tqdm.auto import tqdm\n",
    "from einops import rearrange, reduce\n",
    "from einops.layers.torch import Rearrange\n",
    "\n",
    "import torch\n",
    "from torch import nn, einsum\n",
    "import torch.nn.functional as F\n",
    "import torch.optim as optim\n",
    "import numpy as np\n",
    "import torchvision.transforms as transforms\n",
    "import torchvision.datasets as datasets\n",
    "from torch.utils.data import DataLoader\n",
    "\n",
    "from Unet import *"
   ]
  },
  {
   "cell_type": "markdown",
   "metadata": {},
   "source": [
    "Define hyperparameters & device"
   ]
  },
  {
   "cell_type": "code",
   "execution_count": 2,
   "metadata": {},
   "outputs": [
    {
     "name": "stdout",
     "output_type": "stream",
     "text": [
      "cuda:0\n"
     ]
    }
   ],
   "source": [
    "image_size = 32\n",
    "channel = 1\n",
    "\n",
    "batchsize = 128\n",
    "\n",
    "timestep = 300\n",
    "\n",
    "lr = 1e-3\n",
    "epochs = 1\n",
    "\n",
    "dimmults = (1,2,4,8)\n",
    "\n",
    "device = \"cuda:0\" if torch.cuda.is_available() else \"cpu\"\n",
    "#device = \"cpu\"\n",
    "print(device)"
   ]
  },
  {
   "cell_type": "markdown",
   "metadata": {},
   "source": [
    "Get MNIST datasets"
   ]
  },
  {
   "cell_type": "code",
   "execution_count": 3,
   "metadata": {},
   "outputs": [],
   "source": [
    "data_root = './data'\n",
    "\n",
    "transform = transforms.Compose([\n",
    "    transforms.Resize(32),\n",
    "    transforms.ToTensor(),\n",
    "    transforms.Normalize(0.5,0.5),\n",
    "])\n",
    "\n",
    "train_set = datasets.MNIST(\n",
    "    root=data_root, train=True, download=True, transform=transform\n",
    ")\n",
    "\n",
    "data_loader = DataLoader(train_set, batch_size=batchsize, shuffle=True)"
   ]
  },
  {
   "cell_type": "markdown",
   "metadata": {},
   "source": [
    "Get different datasets"
   ]
  },
  {
   "cell_type": "code",
   "execution_count": 4,
   "metadata": {},
   "outputs": [],
   "source": [
    "# from datasets import load_dataset\n",
    "\n",
    "# # load dataset from the hub\n",
    "# dataset = load_dataset(\"fashion_mnist\",trust_remote_code=True)\n",
    "\n",
    "# from torchvision import transforms\n",
    "# from torch.utils.data import DataLoader\n",
    "\n",
    "# # define image transformations (e.g. using torchvision)\n",
    "# transform = transforms.Compose([\n",
    "#             transforms.RandomHorizontalFlip(),\n",
    "#             transforms.ToTensor(),\n",
    "#             transforms.Lambda(lambda t: (t * 2) - 1)\n",
    "# ])\n",
    "\n",
    "# # define function\n",
    "# def transforms(examples):\n",
    "#    examples[\"pixel_values\"] = [transform(image.convert(\"L\")) for image in examples[\"image\"]]\n",
    "#    del examples[\"image\"]\n",
    "\n",
    "#    return examples\n",
    "\n",
    "# transformed_dataset = dataset.with_transform(transforms).remove_columns(\"label\")\n",
    "\n",
    "# # create dataloader\n",
    "# data_loader = DataLoader(transformed_dataset[\"train\"], batch_size=batchsize, shuffle=True)\n"
   ]
  },
  {
   "cell_type": "markdown",
   "metadata": {},
   "source": [
    "Training Algorithm\n",
    "\n",
    "![](./img/algo_20_1.png)"
   ]
  },
  {
   "cell_type": "code",
   "execution_count": 5,
   "metadata": {},
   "outputs": [],
   "source": [
    "# beta scheduling\n",
    "\n",
    "\"\"\" from https://huggingface.co/blog/annotated-diffusion \"\"\" \n",
    "def cosine_beta_schedule(timesteps, s=0.008):\n",
    "    \"\"\"\n",
    "    cosine schedule as proposed in https://arxiv.org/abs/2102.09672\n",
    "    \"\"\"\n",
    "    steps = timesteps + 1\n",
    "    x = torch.linspace(0, timesteps, steps)\n",
    "    alphas_cumprod = torch.cos(((x / timesteps) + s) / (1 + s) * torch.pi * 0.5) ** 2\n",
    "    alphas_cumprod = alphas_cumprod / alphas_cumprod[0]\n",
    "    betas = 1 - (alphas_cumprod[1:] / alphas_cumprod[:-1])\n",
    "    return torch.clip(betas, 0.0001, 0.9999)\n",
    "\n",
    "def linear_beta_schedule(timesteps):\n",
    "    beta_start = 0.0001\n",
    "    beta_end = 0.02\n",
    "    return torch.linspace(beta_start, beta_end, timesteps)\n",
    "\n",
    "def quadratic_beta_schedule(timesteps):\n",
    "    beta_start = 0.0001\n",
    "    beta_end = 0.02\n",
    "    return torch.linspace(beta_start**0.5, beta_end**0.5, timesteps) ** 2\n",
    "\n",
    "def exp_beta_schedule(timesteps):\n",
    "    beta_start = 0.0001\n",
    "    beta_end = 0.02\n",
    "    betas = torch.linspace(-6,6,timesteps)\n",
    "    tmp = torch.exp(betas)\n",
    "    tmp_max = tmp.max()\n",
    "    tmp_min = tmp.min()\n",
    "    tmp_2 = (tmp - tmp_min) / (tmp_max - tmp_min)\n",
    "    return tmp_2 * (beta_end - beta_start) + beta_start\n",
    "\n",
    "    "
   ]
  },
  {
   "cell_type": "markdown",
   "metadata": {},
   "source": [
    "extract에 대한 chatGPT의 설명\n",
    "\n",
    "Sure! This code snippet defines a function `extract` that takes three arguments: `a`, `t`, and `x_shape`. Here’s a detailed explanation of what each part of the function does:\n",
    "\n",
    "1. **Function Arguments:**\n",
    "   - `a`: A tensor, which is likely to be some array of values from which we want to extract certain elements.\n",
    "   - `t`: A tensor, typically containing indices that will be used to gather elements from `a`.\n",
    "   - `x_shape`: A tuple representing the shape of another tensor, likely to be used for reshaping purposes later.\n",
    "\n",
    "2. **Extracting the Batch Size:**\n",
    "   ```python\n",
    "   batch_size = t.shape[0]\n",
    "   ```\n",
    "   This line gets the first dimension of the tensor `t`, which is assumed to be the batch size.\n",
    "\n",
    "3. **Gathering Elements from `a`:**\n",
    "   ```python\n",
    "   out = a.gather(-1, t.cpu())\n",
    "   ```\n",
    "   The `.gather(dim, index)` function gathers elements along an axis specified by `dim` using indices specified in `index`. Here:\n",
    "   - `-1` indicates the last dimension of `a`.\n",
    "   - `t.cpu()` moves the tensor `t` to the CPU if it isn't already there. This is necessary because `gather` requires the index tensor to be on the same device as the data tensor.\n",
    "   - The result, `out`, is a tensor containing elements gathered from `a` at the positions specified by `t`.\n",
    "\n",
    "4. **Reshaping the Output Tensor:**\n",
    "   ```python\n",
    "   return out.reshape(batch_size, *((1,) * (len(x_shape) - 1))).to(t.device)\n",
    "   ```\n",
    "   This line reshapes the gathered tensor `out` and moves it to the same device as `t`:\n",
    "   - `batch_size` is the first dimension.\n",
    "   - `*((1,) * (len(x_shape) - 1))` creates a tuple of ones with length equal to the number of dimensions in `x_shape` minus one. This ensures that the output tensor `out` will have the same number of dimensions as `x_shape`, with the batch size as the first dimension and 1s for the other dimensions.\n",
    "   - `.to(t.device)` ensures the reshaped tensor is moved to the same device as `t`.\n",
    "\n",
    "The function `extract`:\n",
    "- Takes a tensor `a`, indices `t`, and a shape `x_shape`.\n",
    "- Gathers elements from `a` at positions specified by `t`.\n",
    "- Reshapes the gathered elements into a tensor with the same number of dimensions as `x_shape`, with the batch size as the first dimension.\n",
    "- Moves the resulting tensor to the same device as `t`.\n",
    "\n",
    "This kind of function is commonly used in machine learning, particularly in operations involving batched data and indexing operations."
   ]
  },
  {
   "cell_type": "code",
   "execution_count": 6,
   "metadata": {},
   "outputs": [],
   "source": [
    "# calculate alphas\n",
    "\n",
    "def extract(a, t, x_shape):\n",
    "    batch_size = t.shape[0]\n",
    "    out = a.gather(-1, t.cpu())\n",
    "    return out.reshape(batch_size, *((1,) * (len(x_shape) - 1))).to(t.device)\n",
    "\n",
    "def total_beta_schedule(beta_schedule, timestep):\n",
    "    betas = beta_schedule(timestep)\n",
    "\n",
    "    # used in training\n",
    "    alphas = torch.cumprod(1. - betas, axis=0)\n",
    "    sqrt_alphas = torch.sqrt(alphas)\n",
    "    sqrt_one_minus_alphas = torch.sqrt(1. - alphas)\n",
    "\n",
    "    # used in sampling\n",
    "    sampling_1 = 1. / torch.sqrt(1. - betas)\n",
    "    sampling_2 = betas / sqrt_one_minus_alphas\n",
    "\n",
    "    return betas, alphas, sqrt_alphas, sqrt_one_minus_alphas, sampling_1, sampling_2\n"
   ]
  },
  {
   "cell_type": "code",
   "execution_count": 7,
   "metadata": {},
   "outputs": [],
   "source": [
    "# training function\n",
    "\n",
    "def training(data_loader, epochs, net, optimizer, device, sqrt_alphas, sqrt_one_minus_alphas):\n",
    "    taken_step = 0\n",
    "\n",
    "    training_taken_step = []\n",
    "    training_loss = []\n",
    "\n",
    "    for i in range(epochs):\n",
    "        print(f\">> epoch : {i}\")\n",
    "        for datas, labels in data_loader: # sample a data point\n",
    "            optimizer.zero_grad()\n",
    "            \n",
    "            taken_step += 1\n",
    "\n",
    "            batch_size = len(labels)\n",
    "\n",
    "            datas = datas.to(device)\n",
    "\n",
    "            t = torch.randint(0, timestep, (batch_size,), device=device).long()# sample a point along the Markov chain\n",
    "            \n",
    "            # get alpha values\n",
    "            sqrt_alphas_t = extract(sqrt_alphas, t, datas.shape)\n",
    "            sqrt_one_minus_alphas_t = extract(sqrt_one_minus_alphas, t, datas.shape)\n",
    "\n",
    "            epsilon = torch.randn_like(datas).to(device) # sample a noise vector\n",
    "        \n",
    "            z_t = sqrt_alphas_t * datas + sqrt_one_minus_alphas_t * epsilon # Evaluate noisy latent variable\n",
    "\n",
    "            output = net(z_t, t)\n",
    "\n",
    "            loss = F.mse_loss(epsilon, output) # compute loss term >> change loss term into l1 loss\n",
    "\n",
    "            if taken_step % 100 == 0:\n",
    "                print(\"Loss: \", loss.item())\n",
    "\n",
    "            # save loss\n",
    "            training_taken_step.append(taken_step)\n",
    "            training_loss.append(loss)\n",
    "\n",
    "            loss.backward()\n",
    "\n",
    "            optimizer.step()\n",
    "\n",
    "    return training_loss, training_taken_step, taken_step\n"
   ]
  },
  {
   "cell_type": "code",
   "execution_count": 8,
   "metadata": {},
   "outputs": [],
   "source": [
    "# # training fasion_mnist\n",
    "\n",
    "# # training function\n",
    "\n",
    "# def training_fasion(data_loader, epochs, net, optimizer, device, sqrt_alphas, sqrt_one_minus_alphas):\n",
    "#     taken_step = 0\n",
    "\n",
    "#     training_taken_step = []\n",
    "#     training_loss = []\n",
    "\n",
    "#     for i in range(epochs):\n",
    "#         print(f\">> epoch : {i}\")\n",
    "#         for step, batch in enumerate(data_loader): # sample a data point\n",
    "#             optimizer.zero_grad()\n",
    "            \n",
    "#             taken_step += 1\n",
    "\n",
    "#             batch_size = batch[\"pixel_values\"].shape[0]\n",
    "\n",
    "#             datas = batch[\"pixel_values\"].to(device)\n",
    "\n",
    "#             t = torch.randint(0, timestep, (batch_size,), device=device).long()# sample a point along the Markov chain\n",
    "            \n",
    "#             # get alpha values\n",
    "#             sqrt_alphas_t = extract(sqrt_alphas, t, datas.shape)\n",
    "#             sqrt_one_minus_alphas_t = extract(sqrt_one_minus_alphas, t, datas.shape)\n",
    "\n",
    "#             epsilon = torch.randn_like(datas).to(device) # sample a noise vector\n",
    "        \n",
    "#             z_t = sqrt_alphas_t * datas + sqrt_one_minus_alphas_t * epsilon # Evaluate noisy latent variable\n",
    "\n",
    "#             output = net(z_t, t)\n",
    "\n",
    "#             loss = F.smooth_l1_loss(epsilon, output) # compute loss term >> change loss term into l1 loss\n",
    "\n",
    "#             if step % 100 == 0:\n",
    "#                 print(\"Loss:\", loss.item())\n",
    "\n",
    "#             # save loss\n",
    "#             training_taken_step.append(taken_step)\n",
    "#             training_loss.append(loss)\n",
    "\n",
    "#             loss.backward()\n",
    "\n",
    "#             optimizer.step()\n",
    "\n",
    "#     return training_loss, training_taken_step, taken_step\n"
   ]
  },
  {
   "cell_type": "code",
   "execution_count": 9,
   "metadata": {},
   "outputs": [],
   "source": [
    "# define linear beta schedule\n",
    "\n",
    "linear_betas, linear_alphas, linear_sqrt_alphas, linear_sqrt_one_minus_alphas, linear_sampling_1, linear_sampling_2 = total_beta_schedule(linear_beta_schedule, timestep)\n",
    "\n",
    "# define linear network and optimizer_linear\n",
    "\n",
    "linear_net = Unet(\n",
    "    dim=image_size,\n",
    "    channels=channel,\n",
    "    dim_mults=dimmults\n",
    ")\n",
    "linear_net.to(device)\n",
    "\n",
    "linear_optimizer = optim.Adam(linear_net.parameters(), lr=lr)"
   ]
  },
  {
   "cell_type": "code",
   "execution_count": 10,
   "metadata": {},
   "outputs": [
    {
     "name": "stdout",
     "output_type": "stream",
     "text": [
      ">> epoch : 0\n",
      "Loss:  0.06353399157524109\n",
      "Loss:  0.05093524605035782\n",
      "Loss:  0.046486079692840576\n",
      "Loss:  0.037992384284734726\n"
     ]
    }
   ],
   "source": [
    "# train - linear\n",
    "\n",
    "linear_training_loss, linear_training_taken_step, linear_taken_step = training(data_loader, epochs, linear_net, linear_optimizer, device, \n",
    "                                                                               linear_sqrt_alphas, linear_sqrt_one_minus_alphas)\n"
   ]
  },
  {
   "cell_type": "code",
   "execution_count": 11,
   "metadata": {},
   "outputs": [
    {
     "data": {
      "image/png": "[encoded data removed]",
      "text/plain": [
       "<Figure size 640x480 with 1 Axes>"
      ]
     },
     "metadata": {},
     "output_type": "display_data"
    }
   ],
   "source": [
    "# plot loss linear \n",
    "\n",
    "x = np.array(linear_training_taken_step)\n",
    "y = np.array([x.cpu().detach().numpy() for x in linear_training_loss])\n",
    "\n",
    "plt.plot(x, y)\n",
    "plt.title(f\"lr:{lr} / timestep {timestep} / taken steps:{linear_taken_step} / l2 / batch size:{batchsize} / dim_mult {dimmults}\")\n",
    "plt.show()"
   ]
  },
  {
   "cell_type": "code",
   "execution_count": 13,
   "metadata": {},
   "outputs": [],
   "source": [
    "# save linear model\n",
    "save_path = \"./checkpoints/linear_net.pt\"\n",
    "torch.save(linear_net.state_dict(), save_path)"
   ]
  },
  {
   "cell_type": "code",
   "execution_count": null,
   "metadata": {},
   "outputs": [],
   "source": [
    "# # define cosine beta schedule\n",
    "\n",
    "# cosine_betas, cosine_alphas, cosine_sqrt_alphas, cosine_sqrt_one_minus_alphas, cosine_sampling_1, cosine_sampling_2 = total_beta_schedule(cosine_beta_schedule, timestep)\n",
    "\n",
    "# # define cosine network and optimizer_cosine\n",
    "\n",
    "# cosine_net = Unet(\n",
    "#     dim=image_size,\n",
    "#     channels=channel,\n",
    "#     dim_mults=dimmults\n",
    "# )\n",
    "# cosine_net.to(device)\n",
    "\n",
    "# cosine_optimizer = optim.Adam(cosine_net.parameters(), lr=lr)"
   ]
  },
  {
   "cell_type": "code",
   "execution_count": null,
   "metadata": {},
   "outputs": [],
   "source": [
    "# # train - cosine\n",
    "\n",
    "# cosine_training_loss, cosine_training_taken_step, cosine_taken_step = training(data_loader, epochs, cosine_net, cosine_optimizer, device, \n",
    "#                                                                                cosine_sqrt_alphas, cosine_sqrt_one_minus_alphas)\n",
    "\n"
   ]
  },
  {
   "cell_type": "code",
   "execution_count": null,
   "metadata": {},
   "outputs": [],
   "source": [
    "# # plot loss - cosine\n",
    "\n",
    "# x = np.array(cosine_training_taken_step)\n",
    "# y = np.array([x.cpu().detach().numpy() for x in cosine_training_loss])\n",
    "\n",
    "# plt.plot(x, y)\n",
    "# plt.title(f\"lr:{lr} / timestep {timestep} / taken steps:{cosine_taken_step} / l1_smooth / batch size:{batchsize} / dim_mult {dimmults}\")\n",
    "# plt.show()"
   ]
  },
  {
   "cell_type": "code",
   "execution_count": null,
   "metadata": {},
   "outputs": [],
   "source": [
    "# # define exp beta schedule\n",
    "\n",
    "# exp_betas, exp_alphas, exp_sqrt_alphas, exp_sqrt_one_minus_alphas, exp_sampling_1, exp_sampling_2 = total_beta_schedule(exp_beta_schedule, timestep)\n",
    "\n",
    "# # define cosine network and optimizer_cosine\n",
    "\n",
    "# exp_net = Unet(\n",
    "#     dim=image_size,\n",
    "#     channels=channel,\n",
    "#     dim_mults=dimmults\n",
    "# )\n",
    "# exp_net.to(device)\n",
    "\n",
    "# exp_optimizer = optim.Adam(exp_net.parameters(), lr=lr)\n",
    "\n"
   ]
  },
  {
   "cell_type": "code",
   "execution_count": null,
   "metadata": {},
   "outputs": [],
   "source": [
    "# # train - exp\n",
    "\n",
    "# exp_training_loss, exp_training_taken_step, exp_taken_step = training(data_loader, epochs, exp_net, exp_optimizer, device, \n",
    "#                                                                                exp_sqrt_alphas, exp_sqrt_one_minus_alphas)"
   ]
  },
  {
   "cell_type": "code",
   "execution_count": null,
   "metadata": {},
   "outputs": [],
   "source": [
    "# # plot loss - exp\n",
    "\n",
    "# x = np.array(exp_training_taken_step)\n",
    "# y = np.array([x.cpu().detach().numpy() for x in exp_training_loss])\n",
    "\n",
    "# plt.plot(x, y)\n",
    "# plt.title(f\"lr:{lr} / timestep {timestep} / taken steps:{exp_taken_step} / l2 / batch size:{batchsize} / dim_mult {dimmults}\")\n",
    "# plt.show()"
   ]
  },
  {
   "cell_type": "markdown",
   "metadata": {},
   "source": [
    "Sampling algorithm\n",
    "\n",
    "![](./img/algo_20_2.png)"
   ]
  },
  {
   "cell_type": "code",
   "execution_count": 14,
   "metadata": {},
   "outputs": [],
   "source": [
    "# sampling from net\n",
    "\n",
    "@torch.no_grad()\n",
    "def sample(x, t, betas, sampling_1, sampling_2, net, device):\n",
    "    # evaluate network output\n",
    "    net_t = torch.tensor([t], device=device)\n",
    "\n",
    "    sampling_1_t = extract(sampling_1, net_t , x.shape)\n",
    "    sampling_2_t = extract(sampling_2, net_t, x.shape)\n",
    "    betas_t = extract(betas, net_t, x.shape)\n",
    "\n",
    "    mu = sampling_1_t * (x - sampling_2_t * net(x, net_t))\n",
    "    epsilon = torch.randn_like(x).to(device)\n",
    "    x = mu + torch.sqrt(betas_t) * epsilon\n",
    "\n",
    "\n",
    "    return x\n",
    "\n",
    "\n",
    "@torch.no_grad()\n",
    "def sampling(betas, sampling_1, sampling_2, net, device):\n",
    "    z_T = torch.randn((1,1,32,32)) # sample from final latent space\n",
    "    x = z_T.to(device)\n",
    "    # sampling_1 = sampling_1.to(device)\n",
    "    # sampling_2 = sampling_2.to(device)\n",
    "    # betas = betas.to(device)\n",
    "\n",
    "    for t in reversed(range(1, timestep)):\n",
    "        x = sample(x, t, betas, sampling_1, sampling_2, net, device)\n",
    "\n",
    "    last_t = torch.tensor([0], device=device)\n",
    "\n",
    "    sampling_1_0 = extract(sampling_1, last_t, x.shape)\n",
    "    sampling_2_0 = extract(sampling_2, last_t, x.shape)\n",
    "\n",
    "    x = sampling_1_0 * (x - sampling_2_0 * net(x, last_t))\n",
    "\n",
    "    return x"
   ]
  },
  {
   "cell_type": "code",
   "execution_count": 15,
   "metadata": {},
   "outputs": [
    {
     "data": {
      "text/plain": [
       "<matplotlib.image.AxesImage at 0x1bf9166e3d0>"
      ]
     },
     "execution_count": 15,
     "metadata": {},
     "output_type": "execute_result"
    },
    {
     "data": {
      "image/png": "[encoded data removed]",
      "text/plain": [
       "<Figure size 640x480 with 1 Axes>"
      ]
     },
     "metadata": {},
     "output_type": "display_data"
    }
   ],
   "source": [
    "# plot sampled image - linear\n",
    "\n",
    "res:torch.Tensor = sampling(linear_betas, linear_sampling_1, linear_sampling_2, linear_net, device)\n",
    "\n",
    "plt.figure()\n",
    "plt.title(\"sampled from net_linear\")\n",
    "plt.imshow(res.cpu().detach().numpy()[0].reshape(32,32), cmap='gray')"
   ]
  },
  {
   "cell_type": "code",
   "execution_count": null,
   "metadata": {},
   "outputs": [],
   "source": [
    "# # plot sampled image - cosine\n",
    "\n",
    "# x:torch.Tensor = sampling(cosine_betas, cosine_sampling_1, cosine_sampling_2, cosine_net, device)\n",
    "\n",
    "# plt.figure()\n",
    "# plt.title(\"sampled from net_linear\")\n",
    "# plt.imshow(x.cpu().detach().numpy()[0].reshape(32,32), cmap='gray')"
   ]
  },
  {
   "cell_type": "code",
   "execution_count": null,
   "metadata": {},
   "outputs": [],
   "source": [
    "# # plot sampled image - exp\n",
    "\n",
    "# res:torch.Tensor = sampling(exp_betas, exp_sampling_1, exp_sampling_2, exp_net, device)\n",
    "\n",
    "# plt.figure()\n",
    "# plt.title(\"sampled from net_linear\")\n",
    "# plt.imshow(res.cpu().detach().numpy()[0].reshape(32,32), cmap='gray')"
   ]
  },
  {
   "cell_type": "code",
   "execution_count": 20,
   "metadata": {},
   "outputs": [
    {
     "data": {
      "text/plain": [
       "<matplotlib.image.AxesImage at 0x1c07da5a340>"
      ]
     },
     "execution_count": 20,
     "metadata": {},
     "output_type": "execute_result"
    },
    {
     "data": {
      "image/png": "[encoded data removed]",
      "text/plain": [
       "<Figure size 640x480 with 1 Axes>"
      ]
     },
     "metadata": {},
     "output_type": "display_data"
    }
   ],
   "source": [
    "# test for load linear checkpoint and sample from it\n",
    "loaded_linear_net = Unet(\n",
    "    dim=image_size,\n",
    "    channels=channel,\n",
    "    dim_mults=dimmults\n",
    ")\n",
    "loaded_linear_net.load_state_dict(torch.load(save_path))\n",
    "loaded_linear_net.eval()\n",
    "loaded_linear_net.to(device)\n",
    "\n",
    "res:torch.Tensor = sampling(linear_betas, linear_sampling_1, linear_sampling_2, loaded_linear_net, device)\n",
    "\n",
    "plt.figure()\n",
    "plt.title(\"sampled from net_linear\")\n",
    "plt.imshow(res.cpu().detach().numpy()[0].reshape(32,32), cmap='gray')"
   ]
  }
 ],
 "metadata": {
  "kernelspec": {
   "display_name": "diffusion",
   "language": "python",
   "name": "python3"
  },
  "language_info": {
   "codemirror_mode": {
    "name": "ipython",
    "version": 3
   },
   "file_extension": ".py",
   "mimetype": "text/x-python",
   "name": "python",
   "nbconvert_exporter": "python",
   "pygments_lexer": "ipython3",
   "version": "3.8.19"
  }
 },
 "nbformat": 4,
 "nbformat_minor": 2
}
