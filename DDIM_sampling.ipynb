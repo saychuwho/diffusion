{
 "cells": [
  {
   "cell_type": "code",
   "execution_count": 1,
   "metadata": {},
   "outputs": [],
   "source": [
    "import math\n",
    "from inspect import isfunction\n",
    "from functools import partial\n",
    "\n",
    "import matplotlib.pyplot as plt\n",
    "from tqdm.auto import tqdm\n",
    "from einops import rearrange, reduce\n",
    "from einops.layers.torch import Rearrange\n",
    "\n",
    "import torch\n",
    "from torch import nn, einsum\n",
    "import torch.nn.functional as F\n",
    "import torch.optim as optim\n",
    "import numpy as np\n",
    "import torchvision.transforms as transforms\n",
    "import torchvision.datasets as datasets\n",
    "from torch.utils.data import DataLoader\n",
    "\n",
    "from Unet import *\n",
    "from DiffusionModel import *"
   ]
  },
  {
   "cell_type": "code",
   "execution_count": 2,
   "metadata": {},
   "outputs": [
    {
     "name": "stdout",
     "output_type": "stream",
     "text": [
      "cuda:0\n"
     ]
    }
   ],
   "source": [
    "# define hyperparameters\n",
    "\n",
    "image_size = 32\n",
    "channel = 1\n",
    "\n",
    "batchsize = 128\n",
    "\n",
    "timestep = 1000\n",
    "length = 100\n",
    "\n",
    "lr = 1e-3\n",
    "epochs = 1\n",
    "\n",
    "dimmults = (1,2,4,8)\n",
    "\n",
    "device = \"cuda:0\" if torch.cuda.is_available() else \"cpu\"\n",
    "#device = \"cpu\"\n",
    "print(device)"
   ]
  },
  {
   "cell_type": "code",
   "execution_count": 3,
   "metadata": {},
   "outputs": [],
   "source": [
    "# sample from loaded models\n",
    "\n",
    "loaded_linear_net = Unet(\n",
    "    dim=image_size,\n",
    "    channels=channel,\n",
    "    dim_mults=dimmults\n",
    ")\n",
    "loaded_linear_net, loaded_linear_betas, loaded_linear_sampling_1, loaded_linear_sampling_2= load_net_betas(loaded_linear_net, device, \"DDIM_model\")"
   ]
  },
  {
   "cell_type": "code",
   "execution_count": 4,
   "metadata": {},
   "outputs": [
    {
     "name": "stdout",
     "output_type": "stream",
     "text": [
      "tau : 999\n",
      "tau : 997\n",
      "tau : 976\n",
      "tau : 943\n",
      "tau : 941\n",
      "tau : 930\n",
      "tau : 928\n",
      "tau : 919\n",
      "tau : 916\n",
      "tau : 908\n",
      "tau : 902\n",
      "tau : 897\n",
      "tau : 894\n",
      "tau : 867\n",
      "tau : 861\n",
      "tau : 851\n",
      "tau : 844\n",
      "tau : 830\n",
      "tau : 810\n",
      "tau : 798\n",
      "tau : 785\n",
      "tau : 751\n",
      "tau : 730\n",
      "tau : 720\n",
      "tau : 718\n",
      "tau : 714\n",
      "tau : 697\n",
      "tau : 688\n",
      "tau : 681\n",
      "tau : 676\n",
      "tau : 660\n",
      "tau : 656\n",
      "tau : 644\n",
      "tau : 642\n",
      "tau : 633\n",
      "tau : 625\n",
      "tau : 624\n",
      "tau : 615\n",
      "tau : 600\n",
      "tau : 596\n",
      "tau : 559\n",
      "tau : 551\n",
      "tau : 546\n",
      "tau : 545\n",
      "tau : 541\n",
      "tau : 538\n",
      "tau : 536\n",
      "tau : 528\n",
      "tau : 508\n",
      "tau : 495\n",
      "tau : 487\n",
      "tau : 482\n",
      "tau : 475\n",
      "tau : 474\n",
      "tau : 459\n",
      "tau : 457\n",
      "tau : 426\n",
      "tau : 422\n",
      "tau : 420\n",
      "tau : 418\n",
      "tau : 393\n",
      "tau : 385\n",
      "tau : 365\n",
      "tau : 349\n",
      "tau : 347\n",
      "tau : 335\n",
      "tau : 332\n",
      "tau : 323\n",
      "tau : 315\n",
      "tau : 312\n",
      "tau : 295\n",
      "tau : 283\n",
      "tau : 279\n",
      "tau : 276\n",
      "tau : 237\n",
      "tau : 234\n",
      "tau : 231\n",
      "tau : 215\n",
      "tau : 214\n",
      "tau : 208\n",
      "tau : 198\n",
      "tau : 197\n",
      "tau : 171\n",
      "tau : 160\n",
      "tau : 145\n",
      "tau : 130\n",
      "tau : 114\n",
      "tau : 105\n",
      "tau : 98\n",
      "tau : 91\n",
      "tau : 89\n",
      "tau : 88\n",
      "tau : 82\n",
      "tau : 78\n",
      "tau : 77\n",
      "tau : 68\n",
      "tau : 63\n",
      "tau : 58\n",
      "tau : 35\n",
      "tau : 12\n",
      "tau : 2\n",
      "tau : 1\n"
     ]
    },
    {
     "data": {
      "text/plain": [
       "<matplotlib.image.AxesImage at 0x1f7c1a6b040>"
      ]
     },
     "execution_count": 4,
     "metadata": {},
     "output_type": "execute_result"
    },
    {
     "data": {
      "image/png": "[encoded data removed]",
      "text/plain": [
       "<Figure size 640x480 with 1 Axes>"
      ]
     },
     "metadata": {},
     "output_type": "display_data"
    }
   ],
   "source": [
    "alphas = torch.cumprod(1. - loaded_linear_betas, axis=0)\n",
    "linear_sqrt_alphas = torch.sqrt(alphas)\n",
    "linear_sqrt_one_minus_alphas = torch.sqrt(1. - alphas)\n",
    "\n",
    "init_noise = torch.randn((1,1,32,32))\n",
    "\n",
    "res:torch.Tensor = sampling_DDIM(timestep,\n",
    "                                 linear_sqrt_alphas,\n",
    "                                 linear_sqrt_one_minus_alphas,\n",
    "                                 loaded_linear_net,\n",
    "                                 device,\n",
    "                                 noise=init_noise,\n",
    "                                 length=length)\n",
    "\n",
    "plt.figure()\n",
    "plt.title(\"sampled from net_linear with DDIM sampling\")\n",
    "plt.imshow(res.cpu().detach().numpy()[0].reshape(32,32), cmap='gray')"
   ]
  },
  {
   "cell_type": "code",
   "execution_count": 5,
   "metadata": {},
   "outputs": [
    {
     "data": {
      "text/plain": [
       "<matplotlib.image.AxesImage at 0x1f7b76835b0>"
      ]
     },
     "execution_count": 5,
     "metadata": {},
     "output_type": "execute_result"
    },
    {
     "data": {
      "image/png": "[encoded data removed]",
      "text/plain": [
       "<Figure size 640x480 with 1 Axes>"
      ]
     },
     "metadata": {},
     "output_type": "display_data"
    }
   ],
   "source": [
    "# sampling - DDPM\n",
    "\n",
    "res_2:torch.Tensor = sampling(timestep,\n",
    "                              loaded_linear_betas,\n",
    "                              loaded_linear_sampling_1,\n",
    "                              loaded_linear_sampling_2,\n",
    "                              loaded_linear_net,\n",
    "                              device,\n",
    "                              init_noise)\n",
    "plt.figure()\n",
    "plt.title(\"sampled from net_linear with DDPM sampling\")\n",
    "plt.imshow(res_2.cpu().detach().numpy()[0].reshape(32,32), cmap='gray')"
   ]
  }
 ],
 "metadata": {
  "kernelspec": {
   "display_name": "diffusion",
   "language": "python",
   "name": "python3"
  },
  "language_info": {
   "codemirror_mode": {
    "name": "ipython",
    "version": 3
   },
   "file_extension": ".py",
   "mimetype": "text/x-python",
   "name": "python",
   "nbconvert_exporter": "python",
   "pygments_lexer": "ipython3",
   "version": "3.8.19"
  }
 },
 "nbformat": 4,
 "nbformat_minor": 2
}
