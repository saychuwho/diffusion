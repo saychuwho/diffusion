{
 "cells": [
  {
   "cell_type": "code",
   "execution_count": 1,
   "metadata": {},
   "outputs": [],
   "source": [
    "import math\n",
    "from inspect import isfunction\n",
    "from functools import partial\n",
    "\n",
    "import matplotlib.pyplot as plt\n",
    "from tqdm.auto import tqdm\n",
    "from einops import rearrange, reduce\n",
    "from einops.layers.torch import Rearrange\n",
    "\n",
    "import torch\n",
    "from torch import nn, einsum\n",
    "import torch.nn.functional as F\n",
    "import torch.optim as optim\n",
    "import numpy as np\n",
    "import torchvision.transforms as transforms\n",
    "import torchvision.datasets as datasets\n",
    "from torch.utils.data import DataLoader\n",
    "\n",
    "from Unet import *\n",
    "from DiffusionModel import *"
   ]
  },
  {
   "cell_type": "code",
   "execution_count": 2,
   "metadata": {},
   "outputs": [
    {
     "name": "stdout",
     "output_type": "stream",
     "text": [
      "cuda:0\n"
     ]
    }
   ],
   "source": [
    "# define hyperparameters\n",
    "\n",
    "image_size = 32\n",
    "channel = 1\n",
    "\n",
    "batchsize = 128\n",
    "\n",
    "timestep = 300\n",
    "length = 100\n",
    "\n",
    "lr = 1e-3\n",
    "epochs = 1\n",
    "\n",
    "dimmults = (1,2,4,8)\n",
    "\n",
    "device = \"cuda:0\" if torch.cuda.is_available() else \"cpu\"\n",
    "#device = \"cpu\"\n",
    "print(device)"
   ]
  },
  {
   "cell_type": "code",
   "execution_count": 3,
   "metadata": {},
   "outputs": [],
   "source": [
    "# sample from loaded models\n",
    "\n",
    "loaded_linear_net = Unet(\n",
    "    dim=image_size,\n",
    "    channels=channel,\n",
    "    dim_mults=dimmults\n",
    ")\n",
    "loaded_linear_net, loaded_linear_betas, _, _= load_net_betas(loaded_linear_net, device, \"linear_abstract\")"
   ]
  },
  {
   "cell_type": "code",
   "execution_count": 4,
   "metadata": {},
   "outputs": [
    {
     "name": "stdout",
     "output_type": "stream",
     "text": [
      "tau : 297\n",
      "tau : 296\n",
      "tau : 293\n",
      "tau : 292\n",
      "tau : 290\n",
      "tau : 287\n",
      "tau : 283\n",
      "tau : 282\n",
      "tau : 281\n",
      "tau : 280\n",
      "tau : 277\n",
      "tau : 276\n",
      "tau : 273\n",
      "tau : 263\n",
      "tau : 259\n",
      "tau : 253\n",
      "tau : 252\n",
      "tau : 249\n",
      "tau : 248\n",
      "tau : 246\n",
      "tau : 245\n",
      "tau : 236\n",
      "tau : 234\n",
      "tau : 233\n",
      "tau : 225\n",
      "tau : 221\n",
      "tau : 214\n",
      "tau : 213\n",
      "tau : 209\n",
      "tau : 208\n",
      "tau : 207\n",
      "tau : 206\n",
      "tau : 201\n",
      "tau : 197\n",
      "tau : 194\n",
      "tau : 193\n",
      "tau : 191\n",
      "tau : 190\n",
      "tau : 186\n",
      "tau : 183\n",
      "tau : 181\n",
      "tau : 179\n",
      "tau : 176\n",
      "tau : 175\n",
      "tau : 173\n",
      "tau : 171\n",
      "tau : 165\n",
      "tau : 164\n",
      "tau : 162\n",
      "tau : 154\n",
      "tau : 151\n",
      "tau : 149\n",
      "tau : 148\n",
      "tau : 147\n",
      "tau : 146\n",
      "tau : 139\n",
      "tau : 135\n",
      "tau : 134\n",
      "tau : 131\n",
      "tau : 129\n",
      "tau : 128\n",
      "tau : 127\n",
      "tau : 126\n",
      "tau : 124\n",
      "tau : 119\n",
      "tau : 116\n",
      "tau : 111\n",
      "tau : 110\n",
      "tau : 109\n",
      "tau : 101\n",
      "tau : 99\n",
      "tau : 95\n",
      "tau : 92\n",
      "tau : 91\n",
      "tau : 90\n",
      "tau : 86\n",
      "tau : 77\n",
      "tau : 70\n",
      "tau : 66\n",
      "tau : 64\n",
      "tau : 62\n",
      "tau : 58\n",
      "tau : 56\n",
      "tau : 44\n",
      "tau : 35\n",
      "tau : 34\n",
      "tau : 33\n",
      "tau : 30\n",
      "tau : 25\n",
      "tau : 23\n",
      "tau : 21\n",
      "tau : 18\n",
      "tau : 16\n",
      "tau : 12\n",
      "tau : 10\n",
      "tau : 8\n",
      "tau : 6\n",
      "tau : 4\n",
      "tau : 3\n",
      "tau : 2\n"
     ]
    },
    {
     "data": {
      "text/plain": [
       "<matplotlib.image.AxesImage at 0x24828187e50>"
      ]
     },
     "execution_count": 4,
     "metadata": {},
     "output_type": "execute_result"
    },
    {
     "data": {
      "image/png": "[encoded data removed]",
      "text/plain": [
       "<Figure size 640x480 with 1 Axes>"
      ]
     },
     "metadata": {},
     "output_type": "display_data"
    }
   ],
   "source": [
    "alphas = torch.cumprod(1. - loaded_linear_betas, axis=0)\n",
    "linear_sqrt_alphas = torch.sqrt(alphas)\n",
    "linear_sqrt_one_minus_alphas = torch.sqrt(1. - alphas)\n",
    "\n",
    "res:torch.Tensor = sampling_DDIM(timestep,\n",
    "                                 linear_sqrt_alphas,\n",
    "                                 linear_sqrt_one_minus_alphas,\n",
    "                                 loaded_linear_net,\n",
    "                                 device,\n",
    "                                 noise=None,\n",
    "                                 length=length)\n",
    "\n",
    "plt.figure()\n",
    "plt.title(\"sampled from net_linear with DDIM sampling\")\n",
    "plt.imshow(res.cpu().detach().numpy()[0].reshape(32,32), cmap='gray')"
   ]
  }
 ],
 "metadata": {
  "kernelspec": {
   "display_name": "diffusion",
   "language": "python",
   "name": "python3"
  },
  "language_info": {
   "codemirror_mode": {
    "name": "ipython",
    "version": 3
   },
   "file_extension": ".py",
   "mimetype": "text/x-python",
   "name": "python",
   "nbconvert_exporter": "python",
   "pygments_lexer": "ipython3",
   "version": "3.8.19"
  }
 },
 "nbformat": 4,
 "nbformat_minor": 2
}
