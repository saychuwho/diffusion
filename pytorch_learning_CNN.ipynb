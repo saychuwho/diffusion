{
 "cells": [
  {
   "cell_type": "markdown",
   "metadata": {},
   "source": [
    "# 09 CNN을 활용한 이미지 인식"
   ]
  },
  {
   "cell_type": "code",
   "execution_count": 1,
   "metadata": {},
   "outputs": [],
   "source": [
    "import torch\n",
    "import torch.nn as nn\n",
    "import torch.optim as optim\n",
    "import numpy as np\n",
    "import matplotlib.pyplot as plt"
   ]
  },
  {
   "cell_type": "markdown",
   "metadata": {},
   "source": [
    "## 9.4 파이토치에서 CNN을 구현하는 방법"
   ]
  },
  {
   "cell_type": "code",
   "execution_count": 2,
   "metadata": {},
   "outputs": [],
   "source": [
    "# nn.Cov2d(입력 채널수, 출력 채널수, 커널 사이즈)\n",
    "conv1 = nn.Conv2d(3,32,3)\n",
    "relu = nn.ReLU(inplace=True)\n",
    "conv2 = nn.Conv2d(32,32,3)\n",
    "maxpool = nn.MaxPool2d((2,2))"
   ]
  },
  {
   "cell_type": "code",
   "execution_count": 3,
   "metadata": {},
   "outputs": [
    {
     "name": "stdout",
     "output_type": "stream",
     "text": [
      "Conv2d(3, 32, kernel_size=(3, 3), stride=(1, 1))\n",
      "torch.Size([32, 3, 3, 3])\n",
      "torch.Size([32])\n",
      "torch.Size([32, 32, 3, 3])\n",
      "torch.Size([32])\n"
     ]
    }
   ],
   "source": [
    "print(conv1)\n",
    "\n",
    "print(conv1.weight.shape)\n",
    "print(conv1.bias.shape)\n",
    "\n",
    "print(conv2.weight.shape)\n",
    "print(conv2.bias.shape)"
   ]
  },
  {
   "cell_type": "code",
   "execution_count": 4,
   "metadata": {},
   "outputs": [
    {
     "name": "stdout",
     "output_type": "stream",
     "text": [
      "torch.Size([100, 3, 32, 32])\n"
     ]
    }
   ],
   "source": [
    "# 입력용 더미 변수\n",
    "inputs = torch.randn(100, 3, 32, 32)\n",
    "print(inputs.shape)"
   ]
  },
  {
   "cell_type": "code",
   "execution_count": 5,
   "metadata": {},
   "outputs": [],
   "source": [
    "x1 = conv1(inputs)\n",
    "x2 = relu(x1)\n",
    "x3 = conv2(x2)\n",
    "x4 = relu(x3)\n",
    "x5 = maxpool(x4)"
   ]
  },
  {
   "cell_type": "code",
   "execution_count": 6,
   "metadata": {},
   "outputs": [
    {
     "name": "stdout",
     "output_type": "stream",
     "text": [
      "torch.Size([100, 3, 32, 32])\n",
      "torch.Size([100, 32, 30, 30])\n",
      "torch.Size([100, 32, 30, 30])\n",
      "torch.Size([100, 32, 28, 28])\n",
      "torch.Size([100, 32, 28, 28])\n",
      "torch.Size([100, 32, 14, 14])\n"
     ]
    }
   ],
   "source": [
    "print(inputs.shape)\n",
    "print(x1.shape)\n",
    "print(x2.shape)\n",
    "print(x3.shape)\n",
    "print(x4.shape)\n",
    "print(x5.shape)"
   ]
  },
  {
   "cell_type": "code",
   "execution_count": 7,
   "metadata": {},
   "outputs": [],
   "source": [
    "# nn.Sequential\n",
    "features = nn.Sequential(\n",
    "    conv1,\n",
    "    relu,\n",
    "    conv2,\n",
    "    relu,\n",
    "    maxpool\n",
    ")"
   ]
  },
  {
   "cell_type": "code",
   "execution_count": 8,
   "metadata": {},
   "outputs": [
    {
     "name": "stdout",
     "output_type": "stream",
     "text": [
      "torch.Size([100, 32, 14, 14])\n"
     ]
    }
   ],
   "source": [
    "outputs = features(inputs)\n",
    "print(outputs.shape)"
   ]
  },
  {
   "cell_type": "code",
   "execution_count": 9,
   "metadata": {},
   "outputs": [
    {
     "name": "stdout",
     "output_type": "stream",
     "text": [
      "torch.Size([100, 32, 14, 14])\n",
      "torch.Size([100, 6272])\n"
     ]
    }
   ],
   "source": [
    "# nn.Flatten\n",
    "flatten = nn.Flatten()\n",
    "\n",
    "outputs2 = flatten(outputs)\n",
    "\n",
    "print(outputs.shape)\n",
    "print(outputs2.shape)"
   ]
  },
  {
   "cell_type": "markdown",
   "metadata": {},
   "source": [
    "## 9.5 공통 함수 사용하기"
   ]
  },
  {
   "cell_type": "code",
   "execution_count": null,
   "metadata": {},
   "outputs": [],
   "source": []
  }
 ],
 "metadata": {
  "kernelspec": {
   "display_name": "diffusion",
   "language": "python",
   "name": "python3"
  },
  "language_info": {
   "codemirror_mode": {
    "name": "ipython",
    "version": 3
   },
   "file_extension": ".py",
   "mimetype": "text/x-python",
   "name": "python",
   "nbconvert_exporter": "python",
   "pygments_lexer": "ipython3",
   "version": "3.8.19"
  }
 },
 "nbformat": 4,
 "nbformat_minor": 2
}
