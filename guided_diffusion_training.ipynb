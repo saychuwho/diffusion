{
 "cells": [
  {
   "cell_type": "markdown",
   "metadata": {},
   "source": [
    "## Idea - Model\n",
    "\n",
    "<img src=\"./img/guided_sampling_score_function.jpg\" alt=\"image\" width=\"50%\" height=\"auto\">\n"
   ]
  },
  {
   "cell_type": "markdown",
   "metadata": {},
   "source": [
    "## Idea - modified Unet\n",
    "\n",
    "기존 `Unet`에서 conditioning variable을 받아야 한다. MNIST label을 이용하면 0 ~ 9까지 conditioning variable이 나오는데, 이거를 $t$ embedding 처럼 망에 집어넣는거다. \n",
    "\n",
    "기존 `Unet`은 $t$ embedding을 `ResNetBlock`에서 받아서 처리했는데, 두번 받아서 처리하니까, 두번째 `ResNetBlock`에서는 conditioning variable을 embedding한 값으로 받아서 처리하도록 하면 될 거 같음.\n",
    "\n",
    "```python\n",
    "        for block1, block2, attn, downsample in self.downs:\n",
    "            x = block1(x, t)\n",
    "            h.append(x)\n",
    "\n",
    "            x = block2(x, t) # implement conditioning variable embedding at here\n",
    "            x = attn(x)\n",
    "            h.append(x)\n",
    "\n",
    "            x = downsample(x)\n",
    "```\n",
    "\n",
    "이 사항을 일단 `GuidedUnet`에 반영했다. "
   ]
  },
  {
   "cell_type": "code",
   "execution_count": 1,
   "metadata": {},
   "outputs": [],
   "source": [
    "import math\n",
    "from inspect import isfunction\n",
    "from functools import partial\n",
    "\n",
    "import matplotlib.pyplot as plt\n",
    "from tqdm.auto import tqdm\n",
    "from einops import rearrange, reduce\n",
    "from einops.layers.torch import Rearrange\n",
    "\n",
    "import torch\n",
    "from torch import nn, einsum\n",
    "import torch.nn.functional as F\n",
    "import torch.optim as optim\n",
    "import numpy as np\n",
    "import torchvision.transforms as transforms\n",
    "import torchvision.datasets as datasets\n",
    "from torch.utils.data import DataLoader\n",
    "\n",
    "from Unet import *\n",
    "from DiffusionModel import *\n",
    "from GuidedUnet import *"
   ]
  },
  {
   "cell_type": "code",
   "execution_count": 2,
   "metadata": {},
   "outputs": [
    {
     "name": "stdout",
     "output_type": "stream",
     "text": [
      "cuda:0\n"
     ]
    }
   ],
   "source": [
    "# define hyperparameters\n",
    "\n",
    "image_size = 32\n",
    "channel = 1\n",
    "\n",
    "batchsize = 128\n",
    "\n",
    "timestep = 300\n",
    "\n",
    "lr = 1e-3\n",
    "epochs = 5\n",
    "\n",
    "delta = 0.5\n",
    "\n",
    "condition_shift = timestep + 100\n",
    "\n",
    "dimmults = (1,2,4,8)\n",
    "\n",
    "device = \"cuda:0\" if torch.cuda.is_available() else \"cpu\"\n",
    "#device = \"cpu\"\n",
    "print(device)"
   ]
  },
  {
   "cell_type": "code",
   "execution_count": 3,
   "metadata": {},
   "outputs": [],
   "source": [
    "# get MNIST datasets\n",
    "\n",
    "data_root = './data'\n",
    "\n",
    "transform = transforms.Compose([\n",
    "    transforms.Resize(32),\n",
    "    transforms.ToTensor(),\n",
    "    transforms.Normalize(0.5,0.5),\n",
    "])\n",
    "\n",
    "train_set = datasets.MNIST(\n",
    "    root=data_root, train=True, download=True, transform=transform\n",
    ")\n",
    "\n",
    "data_loader = DataLoader(train_set, batch_size=batchsize, shuffle=True)"
   ]
  },
  {
   "cell_type": "code",
   "execution_count": 4,
   "metadata": {},
   "outputs": [],
   "source": [
    "# define linear beta schedule\n",
    "\n",
    "linear_betas, linear_alphas, linear_sqrt_alphas, linear_sqrt_one_minus_alphas, linear_sampling_1, linear_sampling_2 = total_beta_schedule(linear_beta_schedule, timestep)\n",
    "\n",
    "# define linear network and optimizer_linear\n",
    "\n",
    "linear_net = GuidedUnet(\n",
    "    dim=image_size,\n",
    "    channels=channel,\n",
    "    dim_mults=dimmults\n",
    ")\n",
    "linear_net.to(device)\n",
    "\n",
    "linear_optimizer = optim.Adam(linear_net.parameters(), lr=lr)"
   ]
  },
  {
   "cell_type": "code",
   "execution_count": 5,
   "metadata": {},
   "outputs": [
    {
     "name": "stdout",
     "output_type": "stream",
     "text": [
      ">> epoch : 0 / with condition variable\n"
     ]
    },
    {
     "name": "stderr",
     "output_type": "stream",
     "text": [
      "c:\\Users\\saych\\OneDrive\\document\\usurf\\diffusion\\DiffusionModel.py:137: UserWarning: To copy construct from a tensor, it is recommended to use sourceTensor.clone().detach() or sourceTensor.clone().detach().requires_grad_(True), rather than torch.tensor(sourceTensor).\n",
      "  c = torch.tensor(labels, device=device) + condition_shift\n"
     ]
    },
    {
     "name": "stdout",
     "output_type": "stream",
     "text": [
      "Loss:  0.06510704755783081\n",
      "Loss:  0.040250666439533234\n",
      "Loss:  0.043331071734428406\n",
      "Loss:  0.042443372309207916\n",
      ">> epoch : 1 / with condition variable\n",
      "Loss:  0.04121289402246475\n",
      "Loss:  0.03402561694383621\n",
      "Loss:  0.04071161895990372\n",
      "Loss:  0.03225981816649437\n",
      "Loss:  0.03302328288555145\n",
      ">> epoch : 2 / with condition variable\n",
      "Loss:  0.034366898238658905\n",
      "Loss:  0.02793576754629612\n",
      "Loss:  0.02744395285844803\n",
      "Loss:  0.029152216389775276\n",
      "Loss:  0.03279329091310501\n",
      ">> epoch : 3 / with condition variable\n",
      "Loss:  0.026742488145828247\n",
      "Loss:  0.02451784722507\n",
      "Loss:  0.03268999233841896\n",
      "Loss:  0.028152193874120712\n",
      ">> epoch : 4 / with condition variable\n",
      "Loss:  0.029240190982818604\n",
      "Loss:  0.033514805138111115\n",
      "Loss:  0.025796664878726006\n",
      "Loss:  0.023564282804727554\n",
      "Loss:  0.02768028900027275\n",
      "training without conditioning variable\n",
      "Loss:  0.03067605011165142\n",
      "Loss:  0.032673753798007965\n",
      "Loss:  0.026294492185115814\n",
      "Loss:  0.02588367834687233\n",
      "Loss:  0.02732042409479618\n"
     ]
    }
   ],
   "source": [
    "# train - linear\n",
    "\n",
    "linear_training_loss, linear_training_taken_step, linear_taken_step = training_guided(data_loader, \n",
    "                                                                                      epochs, \n",
    "                                                                                      timestep, \n",
    "                                                                                      linear_net, \n",
    "                                                                                      linear_optimizer, \n",
    "                                                                                      device,\n",
    "                                                                                      linear_sqrt_alphas, \n",
    "                                                                                      linear_sqrt_one_minus_alphas, \n",
    "                                                                                      condition_shift)\n"
   ]
  },
  {
   "cell_type": "code",
   "execution_count": 6,
   "metadata": {},
   "outputs": [
    {
     "data": {
      "image/png": "[encoded data removed]",
      "text/plain": [
       "<Figure size 640x480 with 1 Axes>"
      ]
     },
     "metadata": {},
     "output_type": "display_data"
    }
   ],
   "source": [
    "# plot loss linear \n",
    "\n",
    "x = np.array(linear_training_taken_step)\n",
    "y = np.array([x.cpu().detach().numpy() for x in linear_training_loss])\n",
    "\n",
    "plt.plot(x, y)\n",
    "plt.title(f\"GUIDED / lr:{lr} / timestep {timestep} / taken steps:{linear_taken_step} / l2 / batch size:{batchsize} / dim_mult {dimmults}\")\n",
    "plt.show()"
   ]
  },
  {
   "cell_type": "code",
   "execution_count": 7,
   "metadata": {},
   "outputs": [],
   "source": [
    "# save linear model\n",
    "save_net_betas(linear_net, \n",
    "               linear_betas, \n",
    "               linear_alphas,\n",
    "               linear_sqrt_alphas,\n",
    "               linear_sqrt_one_minus_alphas,\n",
    "               linear_sampling_1, \n",
    "               linear_sampling_2, \n",
    "               \"linear_guided\")"
   ]
  }
 ],
 "metadata": {
  "kernelspec": {
   "display_name": "diffusion",
   "language": "python",
   "name": "python3"
  },
  "language_info": {
   "codemirror_mode": {
    "name": "ipython",
    "version": 3
   },
   "file_extension": ".py",
   "mimetype": "text/x-python",
   "name": "python",
   "nbconvert_exporter": "python",
   "pygments_lexer": "ipython3",
   "version": "3.8.19"
  }
 },
 "nbformat": 4,
 "nbformat_minor": 2
}
